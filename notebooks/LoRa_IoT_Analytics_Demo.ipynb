{
 "cells": [
  {
   "cell_type": "markdown",
   "metadata": {},
   "source": [
    "<p>\n",
    "    <img src=\"https://s3.amazonaws.com/iotanalytics-templates/Logo.png\" style=\"float:left;width:65px\">\n",
    "    <h1 style=\"float:left;color:#1A5276;padding-left:15px;font-size:20px;\">AWS IoT Analytics | Notebook</h1>\n",
    "</p>\n"
   ]
  },
  {
   "cell_type": "markdown",
   "metadata": {},
   "source": [
    "Demonstration of [AWS IoT Analytics](https://aws.amazon.com/iot-analytics/) Notebooks. Environmental sensor data collected from an [Arduino Nano 33 BLE Sense](https://store.arduino.cc/usa/nano-33-ble-sense), using [REYAX RYLR896 LoRaWAN transceiver modules](https://www.amazon.com/RYLR896-Module-SX1276-Antenna-Command/dp/B07NB3BK5H). Notebook uses [pandas](https://pandas.pydata.org/) for data analysis and manipulation, and [matplotlob](https://matplotlib.org/) and [plotly](https://github.com/plotly/plotly.py) for visualization.\n",
    "\n",
    "Author: [Gary A. Stafford](https://github.com/garystafford)"
   ]
  },
  {
   "cell_type": "code",
   "execution_count": null,
   "metadata": {},
   "outputs": [],
   "source": [
    "import sys\n",
    "\n",
    "import boto3\n",
    "import matplotlib.pyplot as plt\n",
    "import pandas as pd\n",
    "import plotly.express as px\n",
    "import plotly.graph_objects as go\n",
    "from matplotlib.dates import DateFormatter\n",
    "from pandas.plotting import register_matplotlib_converters"
   ]
  },
  {
   "cell_type": "markdown",
   "metadata": {},
   "source": [
    "When loading data from IoT Analytics datasets, the client should be initialized first:"
   ]
  },
  {
   "cell_type": "code",
   "execution_count": null,
   "metadata": {},
   "outputs": [],
   "source": [
    "# create IoT Analytics client\n",
    "client = boto3.client('iotanalytics')"
   ]
  },
  {
   "cell_type": "markdown",
   "metadata": {},
   "source": [
    "Now we can get the data location (URL) for the given dataset and start working with the data (In order to need to perform get_dataset_content, you need to grant iot analytics corresponding IAM permission):"
   ]
  },
  {
   "cell_type": "code",
   "execution_count": null,
   "metadata": {},
   "outputs": [],
   "source": [
    "# constants\n",
    "MY_TIMEZONE='US/Eastern' # update to your local timezone or use 'UTC'\n",
    "DATETIME_FORMAT='%y-%m-%d %H:%M' # update to your local date/time format"
   ]
  },
  {
   "cell_type": "code",
   "execution_count": null,
   "metadata": {},
   "outputs": [],
   "source": [
    "def date_parse(x):\n",
    "    x = pd.to_datetime(x, infer_datetime_format=True, unit='s', utc=True)\n",
    "    x = x.tz_convert(MY_TIMEZONE)\n",
    "    return x"
   ]
  },
  {
   "cell_type": "code",
   "execution_count": null,
   "metadata": {},
   "outputs": [],
   "source": [
    "nrows_read = None # specify an integer, or 'None' if want to read whole data set\n",
    "\n",
    "dataset = \"iot_analytics_data_set\"\n",
    "dataset_url = client.get_dataset_content(datasetName = dataset)['entries'][0]['dataURI']\n",
    "\n",
    "df = pd.read_csv(dataset_url,\n",
    "                 nrows=nrows_read,\n",
    "                 header=0,\n",
    "                 low_memory=False,\n",
    "                 infer_datetime_format=True,\n",
    "                 date_parser=date_parse,\n",
    "                 index_col=['ts'])"
   ]
  },
  {
   "cell_type": "code",
   "execution_count": null,
   "metadata": {},
   "outputs": [],
   "source": [
    "# clean up the DataFrame\n",
    "df = df.drop(columns='__dt')\n",
    "df = df.sort_values(by='ts', ascending=True)"
   ]
  },
  {
   "cell_type": "code",
   "execution_count": null,
   "metadata": {},
   "outputs": [],
   "source": [
    "# metadata attributes before transform\n",
    "df['metadata'][0]"
   ]
  },
  {
   "cell_type": "code",
   "execution_count": null,
   "metadata": {},
   "outputs": [],
   "source": [
    "# transform metadata attribute, from device registry, to valid json object\n",
    "df['metadata'].replace('{','{\"',regex=True, inplace = True)\n",
    "df['metadata'].replace('=','\":\"',regex=True, inplace = True)\n",
    "df['metadata'].replace(', ','\",\"',regex=True, inplace = True)\n",
    "df['metadata'].replace(':\"{\"',':{\"',regex=True, inplace = True)\n",
    "df['metadata'].replace('}\",','},',regex=True, inplace = True)\n",
    "df['metadata'].replace('}','\"}',regex=True, inplace = True)"
   ]
  },
  {
   "cell_type": "code",
   "execution_count": null,
   "metadata": {},
   "outputs": [],
   "source": [
    "# metadata attributes post transform\n",
    "df['metadata'][0]"
   ]
  },
  {
   "cell_type": "code",
   "execution_count": null,
   "metadata": {},
   "outputs": [],
   "source": [
    "# metadata attributes as json\n",
    "metadata = pd.read_json(df['metadata'][0], orient='records', typ='series')\n",
    "metadata"
   ]
  },
  {
   "cell_type": "code",
   "execution_count": null,
   "metadata": {},
   "outputs": [],
   "source": [
    "# example of extracting value from a metadata attribute\n",
    "print(metadata['thingname'])"
   ]
  },
  {
   "cell_type": "code",
   "execution_count": null,
   "metadata": {},
   "outputs": [],
   "source": [
    "df.tail(5)"
   ]
  },
  {
   "cell_type": "code",
   "execution_count": null,
   "metadata": {},
   "outputs": [],
   "source": [
    "# initial readings were not reflective of environment\n",
    "df = df.loc[df['msg_received'] >='2020-08-24T15:02:06.354+0000']\n",
    "df = df.loc[df['msg_received'] <='2020-08-24T19:02:06.354+0000']"
   ]
  },
  {
   "cell_type": "code",
   "execution_count": null,
   "metadata": {},
   "outputs": [],
   "source": [
    "# filter temp/humidity outliers (>1% & <99%)\n",
    "df = df.loc[df['temperature'] > df.groupby('device_id').temperature.transform(lambda x: x.quantile(.01))]\n",
    "df = df.loc[df['temperature'] < df.groupby('device_id').temperature.transform(lambda x: x.quantile(.99))]\n",
    "\n",
    "df = df.loc[df['humidity'] > df.groupby('device_id').humidity.transform(lambda x: x.quantile(.01))]\n",
    "df = df.loc[df['humidity'] < df.groupby('device_id').humidity.transform(lambda x: x.quantile(.99))]"
   ]
  },
  {
   "cell_type": "code",
   "execution_count": null,
   "metadata": {},
   "outputs": [],
   "source": [
    "print('DataFrame Stats')\n",
    "print('-------------')\n",
    "print('Record count: {:,}'.format(df['temperature'].count()))\n",
    "print('DataFrame size (MB): {:,.2f}'.format(sys.getsizeof(df)/1024/1024))\n",
    "print('-------------')\n",
    "print('Time range (min): {:%Y-%m-%d %H:%M:%S %Z}'.format(df.index[1]))\n",
    "print('Time range (max): {:%Y-%m-%d %H:%M:%S %Z}'.format(df.index[-1]))\n",
    "print('Temperature (min): {:.2f}{}'.format(df['temperature'].min(), '°F'))\n",
    "print('Temperature (max): {:.2f}{}'.format(df['temperature'].max(), '°F'))\n",
    "print('Humidity (min): {:.2f}{}'.format(df['humidity'].min(), '%'))\n",
    "print('Humidity (max): {:.2f}{}'.format(df['humidity'].max(), '%'))\n",
    "print('Barometric Pressure (min): {:.2f}{}'.format(df['pressure'].min(), ' kPa'))\n",
    "print('Barometric Pressure (max): {:.2f}{}'.format(df['pressure'].max(), ' kPa'))"
   ]
  },
  {
   "cell_type": "code",
   "execution_count": null,
   "metadata": {},
   "outputs": [],
   "source": [
    "# matplotlib datetime config\n",
    "plt.rcParams['timezone']=MY_TIMEZONE\n",
    "register_matplotlib_converters()\n",
    "myFmt = DateFormatter(DATETIME_FORMAT)"
   ]
  },
  {
   "cell_type": "markdown",
   "metadata": {},
   "source": [
    "## Scatter Plot using Matplotlib\n",
    "Using [Matplotlib](https://matplotlib.org/): Visualization with Python"
   ]
  },
  {
   "cell_type": "code",
   "execution_count": null,
   "metadata": {},
   "outputs": [],
   "source": [
    "_, ax = plt.subplots(1, 1, figsize=(18, 9))\n",
    "ax.plot(df.temperature,\n",
    "        df.humidity,\n",
    "        marker='o',\n",
    "        linestyle='',\n",
    "        alpha=.5,\n",
    "        ms=10,\n",
    "        label='lora-iot-gateway-01')\n",
    "ax.grid()\n",
    "ax.margins(0.05)\n",
    "ax.legend()\n",
    "plt.title('Temperature vs. Humidity')\n",
    "plt.xlabel('Temperature (˚F)')\n",
    "plt.ylabel('Humidity (%)')\n",
    "plt.show()"
   ]
  },
  {
   "cell_type": "markdown",
   "metadata": {},
   "source": [
    "## Plotly vs. Matplotlib for Graphing\n",
    "Graphs using [Plotly](https://plotly.com/python/) Python Open Source Graphing Library"
   ]
  },
  {
   "cell_type": "code",
   "execution_count": null,
   "metadata": {},
   "outputs": [],
   "source": [
    "# strip timezone info so Plotly won't convert to UTC\n",
    "df.index = df.index.tz_localize(None)"
   ]
  },
  {
   "cell_type": "code",
   "execution_count": null,
   "metadata": {},
   "outputs": [],
   "source": [
    "fig = px.scatter(df,\n",
    "                 x='temperature',\n",
    "                 y='humidity',\n",
    "                 color='device',\n",
    "                 hover_name='device',\n",
    "                 trendline='ols',\n",
    "                 render_mode='svg',\n",
    "                 hover_data={'device_id': False, 'temperature':':.2f', 'humidity':':.2f'})\n",
    "\n",
    "fig.update_layout(title='Temperature vs. Humidity',\n",
    "                  xaxis_title='Temperature (˚F)',\n",
    "                  yaxis_title='Humidity (%)',\n",
    "                  template='ggplot2')\n",
    "\n",
    "fig.show()"
   ]
  },
  {
   "cell_type": "markdown",
   "metadata": {},
   "source": [
    "## Moving Average (MA) Graph\n",
    "### Temperature, Humidity, and Barometric Pressure\n",
    "Smoothing data using the mean average of a 1 minute rolling window.  \n",
    "1 minutes == (12) data-points @ 5 second intervals"
   ]
  },
  {
   "cell_type": "code",
   "execution_count": null,
   "metadata": {},
   "outputs": [],
   "source": [
    "# barometric pressure has already been converted from kPa to inHg\n",
    "\n",
    "fig, ax = plt.subplots(1, 1, figsize=(18, 9))\n",
    "mean_temp = df.temperature.rolling(window=12).mean()\n",
    "mean_humid = df.humidity.rolling(window=12).mean()\n",
    "mean_pressure = df.pressure.rolling(window=12).mean()\n",
    "\n",
    "ax.plot(mean_temp,\n",
    "        label='Temperture (˚F)')\n",
    "ax.plot(mean_humid,\n",
    "        label='Humidity (%)')\n",
    "ax.plot(mean_pressure,\n",
    "        label='Pressue (inHg)')\n",
    "\n",
    "fig.autofmt_xdate()\n",
    "ax.xaxis.set_major_formatter(myFmt)\n",
    "ax.grid()\n",
    "ax.margins(0.05)\n",
    "ax.legend()\n",
    "plt.title('Temperature, Humidity, and Barometric Pressure over Time')\n",
    "plt.ylabel('Sensor Readings')\n",
    "plt.xlabel('Time')\n",
    "plt.show()"
   ]
  },
  {
   "cell_type": "markdown",
   "metadata": {},
   "source": [
    "## Moving Average (MA) Graph\n",
    "### RGB Color and Ambient Light Intensity\n",
    "Smoothing data using the mean average of a 1 minute rolling window.  \n",
    "1 minutes == (12) data-points @ 5 second intervals"
   ]
  },
  {
   "cell_type": "code",
   "execution_count": null,
   "metadata": {},
   "outputs": [],
   "source": [
    "fig, ax = plt.subplots(1, 1, figsize=(18, 9))\n",
    "\n",
    "mean_red = df.red.rolling(window=12).mean()\n",
    "mean_green = df.green.rolling(window=12).mean()\n",
    "mean_blue = df.blue.rolling(window=12).mean()\n",
    "mean_ambient = df.ambient.rolling(window=12).mean()\n",
    "\n",
    "ax.plot(mean_red,\n",
    "        label='Red',\n",
    "        color='red')\n",
    "ax.plot(mean_green,\n",
    "        label='Green',\n",
    "        color='green')\n",
    "ax.plot(mean_blue,\n",
    "        label='Blue',\n",
    "        color='blue')\n",
    "ax.plot(mean_ambient,\n",
    "        label='Ambient Light',\n",
    "        color='darkgrey')\n",
    "\n",
    "fig.autofmt_xdate()\n",
    "ax.xaxis.set_major_formatter(myFmt)\n",
    "ax.grid()\n",
    "ax.margins(0.05)\n",
    "ax.legend()\n",
    "plt.title('RGB Color and Ambient Light Intensity over Time')\n",
    "plt.ylabel('RGBA (0-255)')\n",
    "plt.xlabel('Time')\n",
    "plt.show()"
   ]
  },
  {
   "cell_type": "markdown",
   "metadata": {},
   "source": [
    "## Plotly vs. Matplotlib for Graphing\n",
    "Graphs using [Plotly](https://plotly.com/python/) Python Open Source Graphing Library"
   ]
  },
  {
   "cell_type": "code",
   "execution_count": null,
   "metadata": {},
   "outputs": [],
   "source": [
    "mean_red = df.red.rolling(window=12).mean()\n",
    "mean_green = df.green.rolling(window=12).mean()\n",
    "mean_blue = df.blue.rolling(window=12).mean()\n",
    "mean_ambient = df.ambient.rolling(window=12).mean()\n",
    "\n",
    "fig = go.Figure()\n",
    "fig.add_trace(go.Scatter(x=df.index, y=mean_red,\n",
    "                         line_color=\"#ff0000\",\n",
    "                         mode='lines',\n",
    "                         name='red'))\n",
    "fig.add_trace(go.Scatter(x=df.index, y=mean_green,\n",
    "                         line_color=\"#00ff00\",\n",
    "                         mode='lines',\n",
    "                         name='green'))\n",
    "fig.add_trace(go.Scatter(x=df.index, y=mean_blue,\n",
    "                         line_color=\"#0000ff\",\n",
    "                         mode='lines', name='blue'))\n",
    "fig.add_trace(go.Scatter(x=df.index, y=mean_ambient,\n",
    "                         line_color=\"#999999\",\n",
    "                         mode='lines', name='ambient'))\n",
    "\n",
    "fig.update_layout(title='RGB Color and Ambient Light Intensity over Time',\n",
    "                  xaxis_title='Time',\n",
    "                  yaxis_title='RGBA (0-255)',\n",
    "                  template='ggplot2')\n",
    "\n",
    "fig.show()"
   ]
  },
  {
   "cell_type": "markdown",
   "metadata": {},
   "source": [
    "<div style=\"height:60px;\"><div style=\"height:7px;background-color:#20B3CD;width:100%;margin-top:20px;position:relative;\"><img src=\"https://s3.amazonaws.com/iotanalytics-templates/Logo.png\" style=\"height:50px;width:50px;margin-top:-20px;position:absolute;margin-left:42%;\"></div></div>"
   ]
  }
 ],
 "metadata": {
  "kernelspec": {
   "display_name": "conda_python3",
   "language": "python",
   "name": "conda_python3"
  },
  "language_info": {
   "codemirror_mode": {
    "name": "ipython",
    "version": 3
   },
   "file_extension": ".py",
   "mimetype": "text/x-python",
   "name": "python",
   "nbconvert_exporter": "python",
   "pygments_lexer": "ipython3",
   "version": "3.6.10"
  }
 },
 "nbformat": 4,
 "nbformat_minor": 4
}